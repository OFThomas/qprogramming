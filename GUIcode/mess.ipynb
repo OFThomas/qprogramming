{
 "cells": [
  {
   "cell_type": "code",
   "execution_count": 2,
   "metadata": {},
   "outputs": [
    {
     "ename": "AttributeError",
     "evalue": "'Control' object has no attribute 'programs'",
     "output_type": "error",
     "traceback": [
      "\u001b[0;31m---------------------------------------------------------------------------\u001b[0m",
      "\u001b[0;31mAttributeError\u001b[0m                            Traceback (most recent call last)",
      "\u001b[0;32m<ipython-input-2-a6969d014c0b>\u001b[0m in \u001b[0;36m<module>\u001b[0;34m()\u001b[0m\n\u001b[1;32m     71\u001b[0m \u001b[0;34m\u001b[0m\u001b[0m\n\u001b[1;32m     72\u001b[0m \u001b[0;34m\u001b[0m\u001b[0m\n\u001b[0;32m---> 73\u001b[0;31m \u001b[0mAPP\u001b[0m \u001b[0;34m=\u001b[0m \u001b[0mApplication\u001b[0m\u001b[0;34m(\u001b[0m\u001b[0;34m)\u001b[0m\u001b[0;34m\u001b[0m\u001b[0m\n\u001b[0m",
      "\u001b[0;32m<ipython-input-2-a6969d014c0b>\u001b[0m in \u001b[0;36m__init__\u001b[0;34m(self)\u001b[0m\n\u001b[1;32m     36\u001b[0m \u001b[0;34m\u001b[0m\u001b[0m\n\u001b[1;32m     37\u001b[0m         \u001b[0;31m# make control object\u001b[0m\u001b[0;34m\u001b[0m\u001b[0;34m\u001b[0m\u001b[0m\n\u001b[0;32m---> 38\u001b[0;31m         \u001b[0mself\u001b[0m\u001b[0;34m.\u001b[0m\u001b[0mcontrol\u001b[0m \u001b[0;34m=\u001b[0m \u001b[0mControl\u001b[0m\u001b[0;34m(\u001b[0m\u001b[0mself\u001b[0m\u001b[0;34m.\u001b[0m\u001b[0mcontrolframe\u001b[0m\u001b[0;34m.\u001b[0m\u001b[0mframe\u001b[0m\u001b[0;34m)\u001b[0m\u001b[0;34m\u001b[0m\u001b[0m\n\u001b[0m\u001b[1;32m     39\u001b[0m \u001b[0;34m\u001b[0m\u001b[0m\n\u001b[1;32m     40\u001b[0m         \u001b[0;31m# exit buttons\u001b[0m\u001b[0;34m\u001b[0m\u001b[0;34m\u001b[0m\u001b[0m\n",
      "\u001b[0;32m~/Documents/qprogramming/GUIcode/control.py\u001b[0m in \u001b[0;36m__init__\u001b[0;34m(self, frame)\u001b[0m\n\u001b[1;32m     21\u001b[0m         \u001b[0;31m#            [\"Scaffold\",partial(Scaffold.options)],\u001b[0m\u001b[0;34m\u001b[0m\u001b[0;34m\u001b[0m\u001b[0m\n\u001b[1;32m     22\u001b[0m         \u001b[0;31m#            [\"Qiskit\",partial(Qiskit.options)]]\u001b[0m\u001b[0;34m\u001b[0m\u001b[0;34m\u001b[0m\u001b[0m\n\u001b[0;32m---> 23\u001b[0;31m         \u001b[0mself\u001b[0m\u001b[0;34m.\u001b[0m\u001b[0m__make_screen\u001b[0m\u001b[0;34m(\u001b[0m\u001b[0mself\u001b[0m\u001b[0;34m.\u001b[0m\u001b[0mprograms\u001b[0m\u001b[0;34m)\u001b[0m\u001b[0;34m\u001b[0m\u001b[0m\n\u001b[0m\u001b[1;32m     24\u001b[0m \u001b[0;34m\u001b[0m\u001b[0m\n\u001b[1;32m     25\u001b[0m     \u001b[0;31m# Return values:\u001b[0m\u001b[0;34m\u001b[0m\u001b[0;34m\u001b[0m\u001b[0m\n",
      "\u001b[0;31mAttributeError\u001b[0m: 'Control' object has no attribute 'programs'"
     ]
    }
   ],
   "source": [
    "#!/usr/bin/python3\n",
    "\n",
    "\n",
    "from functools import partial\n",
    "from tkinter import *\n",
    "\n",
    "#import control\n",
    "#control.ipynb\n",
    "#makestuff.ipynb\n",
    "#navigation.ipynb\n",
    "#view.ipynb\n",
    "\n",
    "from control import Control\n",
    "from makestuff import MakeFrame\n",
    "from navigation import Navigation\n",
    "from view import View\n",
    "\n",
    "# mess.py\n",
    "# JS OT Bristol 2018\n",
    "\n",
    "\n",
    "class Application():\n",
    "    def __init__(self):\n",
    "\n",
    "        # layout window\n",
    "        self.setgeometry()\n",
    "        # create background frames\n",
    "        self.buildframes()\n",
    "\n",
    "        # Make view object...\n",
    "        self.view = View(self.viewframe.frame)\n",
    "        self.view.make_label(\"Hello\", 0)\n",
    "        self.view.make_text_entry(\"Other label\", partial(print, 1))\n",
    "        self.view.set_output(\"This is the output\", 2)\n",
    "        self.view.set_output(\"This more output\", 3)\n",
    "\n",
    "        # make control object\n",
    "        self.control = Control(self.controlframe.frame)\n",
    "\n",
    "        # exit buttons\n",
    "        self.navigation = Navigation(self.root, self.exitframe.frame,\n",
    "                                     self.docframe.frame, self.control)\n",
    "\n",
    "        # Run it all!\n",
    "        self.root.mainloop()\n",
    "\n",
    "    def setgeometry(self):\n",
    "        # make window called self.root\n",
    "        self.root = Tk()\n",
    "        # dimensions of window\n",
    "        self.winwidth = 640\n",
    "        self.winheight = 480\n",
    "        self.root.minsize(920, 480)\n",
    "        # geometry\n",
    "        self.root.resizable(width=True, height=True)\n",
    "        self.root.geometry('{}x{}'.format(self.winwidth, self.winheight))\n",
    "        self.root.rowconfigure(0, weight=1)\n",
    "        self.root.columnconfigure(0, weight=1)\n",
    "\n",
    "        # get that professional font\n",
    "        font = ('Comic Sans MS', 12)\n",
    "        self.root.option_add(\"*Font\", font)\n",
    "\n",
    "    def buildframes(self):\n",
    "        # make frames for backgrounds and splitting the widgits\n",
    "        self.docframe = MakeFrame(self.root, 'lime', 100, 100, 0, 0, 'nesw')\n",
    "        self.viewframe = MakeFrame(self.root, 'yellow', 100, 100, 1, 0, 'nsew')\n",
    "        self.controlframe = MakeFrame(self.root, 'white', 100, 100, 2, 0,\n",
    "                                      'nsew')\n",
    "        self.exitframe = MakeFrame(self.root, 'cyan', 100, 100, 3, 0, 'nsew')\n",
    "\n",
    "\n",
    "APP = Application()"
   ]
  },
  {
   "cell_type": "code",
   "execution_count": null,
   "metadata": {},
   "outputs": [],
   "source": []
  },
  {
   "cell_type": "code",
   "execution_count": null,
   "metadata": {},
   "outputs": [],
   "source": []
  },
  {
   "cell_type": "code",
   "execution_count": null,
   "metadata": {},
   "outputs": [],
   "source": []
  },
  {
   "cell_type": "code",
   "execution_count": null,
   "metadata": {},
   "outputs": [],
   "source": []
  },
  {
   "cell_type": "code",
   "execution_count": null,
   "metadata": {},
   "outputs": [],
   "source": []
  }
 ],
 "metadata": {
  "kernelspec": {
   "display_name": "Python 3",
   "language": "python",
   "name": "python3"
  },
  "language_info": {
   "codemirror_mode": {
    "name": "ipython",
    "version": 3
   },
   "file_extension": ".py",
   "mimetype": "text/x-python",
   "name": "python",
   "nbconvert_exporter": "python",
   "pygments_lexer": "ipython3",
   "version": "3.5.2"
  }
 },
 "nbformat": 4,
 "nbformat_minor": 2
}
