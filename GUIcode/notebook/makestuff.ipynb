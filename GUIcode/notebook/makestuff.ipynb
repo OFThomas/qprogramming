{
 "cells": [
  {
   "cell_type": "code",
   "execution_count": null,
   "metadata": {},
   "outputs": [],
   "source": [
    "from tkinter import *\n",
    "\n",
    "class MakeFrame():\n",
    "#frame is background color object for building buttons and text on\n",
    "   \n",
    "   def __init__(self,location,color,width,height,row,col,sticky, rowspan=1, columnspan=1):\n",
    "       \n",
    "       self.frame = Frame(location, bg=color, width=width, height=height, padx=3, pady=3)\n",
    "       self.frame.grid(row=row,column=col,rowspan=rowspan,columnspan=columnspan,sticky=sticky)\n",
    "       #this needs to update the previous frame that the object is being created on\n",
    "       #so location NOT self.frame.frame\n",
    "       location.rowconfigure(row, weight=1)\n",
    "       location.columnconfigure(col, weight=1)\n",
    "       #might also need to replace new layer...\n",
    "       #self.frame.rowconfigure(row,weight=1)\n",
    "       #self.frame.columnconfigure(col,weight=1)\n",
    "       # NO don't do it \n",
    "\n",
    "# An exemplary class\n",
    "## Damn straight!\n",
    "class MakeButton():\n",
    "   \n",
    "   def __init__(self,location,row,col,text,fun,fcolor=\"blue\",bcolor=\"white\"):\n",
    "        self.button = Button(location, fg=fcolor,\n",
    "                             bg=bcolor,text=text,\n",
    "                             width=20,relief=RAISED,\n",
    "                             command=fun)\n",
    "        self.button.grid(row=row,column=col)\n",
    "        \n",
    "   #function for button\n",
    "   def set_fun(self,new_fun):\n",
    "      self.fun = new_fun\n",
    "    \n",
    "   def set_text(self,new_text):\n",
    "      self.button.config(text=new_text)\n",
    "   #move button\n",
    "   def set_position(self,row,col,sticky):\n",
    "      self.button.grid(row=row,column=col,sticky=sticky)\n",
    "    \n",
    "   def set_color(self,foreground,background):\n",
    "      self.button.config(fg=foreground,bg=background)\n",
    "\n",
    "   # Remove the button\n",
    "   # Just delete the object and have this as part of\n",
    "   # the destructor. Is there a delete keyword in\n",
    "   # python?\n",
    "   def destroy(self):\n",
    "      self.button.destroy()\n",
    "   \n"
   ]
  }
 ],
 "metadata": {
  "kernelspec": {
   "display_name": "Python 3",
   "language": "python",
   "name": "python3"
  },
  "language_info": {
   "codemirror_mode": {
    "name": "ipython",
    "version": 3
   },
   "file_extension": ".py",
   "mimetype": "text/x-python",
   "name": "python",
   "nbconvert_exporter": "python",
   "pygments_lexer": "ipython3",
   "version": "3.5.2"
  }
 },
 "nbformat": 4,
 "nbformat_minor": 2
}
