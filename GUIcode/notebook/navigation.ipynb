{
 "cells": [
  {
   "cell_type": "code",
   "execution_count": null,
   "metadata": {},
   "outputs": [],
   "source": [
    "from functools import partial\n",
    "from tkinter import *\n",
    "from makestuff import MakeButton\n",
    "import webbrowser\n",
    "\n",
    "# exits.py\n",
    "# JS OT Bristol 2018\n",
    "\n",
    "\n",
    "class Navigation():\n",
    "    def __init__(self, root, frame, docs, control):\n",
    "        self.docs = docs\n",
    "        self.control = control\n",
    "        self.root = root\n",
    "        self.frame = frame\n",
    "        # All buttons!\n",
    "        self.top()\n",
    "        self.bottom()\n",
    "\n",
    "    def top(self):\n",
    "        self.doclabel = 'Q programming guide'\n",
    "        self.url = 'http://lmgtfy.com/?q=quantum+programming+guide'\n",
    "        guide_doc = MakeButton(self.docs, 0, 0, self.doclabel,\n",
    "                               partial(webbrowser.open, self.url))\n",
    "        \n",
    "    def bottom(self):\n",
    "        self.exitlabels = [['Back', partial(self.control.go_back)],\n",
    "                           ['Home', partial(self.control.go_home)],\n",
    "                           ['Exit', partial(self.root.destroy)]]\n",
    "        exitbutton = [None] * len(self.exitlabels)\n",
    "\n",
    "        for i in range(0, len(self.exitlabels)):\n",
    "            exitbutton[i] = MakeButton(self.frame, 0, i,\n",
    "                                       self.exitlabels[i][0],\n",
    "                                       self.exitlabels[i][1])\n"
   ]
  }
 ],
 "metadata": {
  "kernelspec": {
   "display_name": "Python 3",
   "language": "python",
   "name": "python3"
  },
  "language_info": {
   "codemirror_mode": {
    "name": "ipython",
    "version": 3
   },
   "file_extension": ".py",
   "mimetype": "text/x-python",
   "name": "python",
   "nbconvert_exporter": "python",
   "pygments_lexer": "ipython3",
   "version": "3.5.2"
  }
 },
 "nbformat": 4,
 "nbformat_minor": 2
}
