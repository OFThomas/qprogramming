{
 "cells": [
  {
   "cell_type": "code",
   "execution_count": null,
   "metadata": {},
   "outputs": [],
   "source": [
    "# docs.py\n",
    "from functools import partial\n",
    "\n",
    "from makestuff import MakeButton\n",
    "from quantumprograms import (run_progguide, run_projectq, run_pyquil,\n",
    "                             run_qiskit, run_qsharp)\n",
    "\n",
    "# JS OT Bristol 2018\n",
    "\n",
    "\n",
    "class Docs():\n",
    "    def __init__(self, frame):\n",
    "        self.frame = frame\n",
    "        # documentation\n",
    "        self.makedocs()\n"
   ]
  }
 ],
 "metadata": {
  "kernelspec": {
   "display_name": "Python 3",
   "language": "python",
   "name": "python3"
  },
  "language_info": {
   "codemirror_mode": {
    "name": "ipython",
    "version": 3
   },
   "file_extension": ".py",
   "mimetype": "text/x-python",
   "name": "python",
   "nbconvert_exporter": "python",
   "pygments_lexer": "ipython3",
   "version": "3.5.2"
  }
 },
 "nbformat": 4,
 "nbformat_minor": 2
}
